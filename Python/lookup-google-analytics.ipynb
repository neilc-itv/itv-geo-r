{
  "nbformat": 4,
  "nbformat_minor": 0,
  "metadata": {
    "colab": {
      "provenance": [],
      "collapsed_sections": [],
      "mount_file_id": "1bY8qodxF8nxv70aiJCAEosmz1sO1gy1M",
      "authorship_tag": "ABX9TyOy2NFLlOzOazlq5+HMowTu",
      "include_colab_link": true
    },
    "kernelspec": {
      "name": "python3",
      "display_name": "Python 3"
    },
    "language_info": {
      "name": "python"
    }
  },
  "cells": [
    {
      "cell_type": "markdown",
      "metadata": {
        "id": "view-in-github",
        "colab_type": "text"
      },
      "source": [
        "<a href=\"https://colab.research.google.com/github/neilc-itv/itv-geo-r/blob/main/Python/lookup-google-analytics.ipynb\" target=\"_parent\"><img src=\"https://colab.research.google.com/assets/colab-badge.svg\" alt=\"Open In Colab\"/></a>"
      ]
    },
    {
      "cell_type": "code",
      "source": [
        "#Make sure you have set up the Google Analytics Data API before running this code\n",
        "#Make sure you have installed the library google-analytics-data ( pip install google-analytics-data)\n",
        "\n",
        "from google.analytics.data_v1beta import BetaAnalyticsDataClient\n",
        "from google.analytics.data_v1beta.types import DateRange\n",
        "from google.analytics.data_v1beta.types import Dimension\n",
        "from google.analytics.data_v1beta.types import Metric\n",
        "from google.analytics.data_v1beta.types import RunReportRequest\n",
        "import pandas as pd\n",
        "import requests\n",
        "import io\n",
        "import os"
      ],
      "metadata": {
        "id": "V6vKqCLvfRD3"
      },
      "execution_count": null,
      "outputs": []
    },
    {
      "cell_type": "code",
      "source": [
        "# replace service_account_file_path with the value of your JSON file\n",
        "os.environ['GOOGLE_APPLICATION_CREDENTIALS'] = service_account_file_path"
      ],
      "metadata": {
        "id": "Xq0vhEnXfSz2"
      },
      "execution_count": null,
      "outputs": []
    },
    {
      "cell_type": "code",
      "source": [
        "def sample_run_report(property_id, export_path):\n",
        "    \"\"\"Runs a simple report on a Google Analytics 4 property.\"\"\"\n",
        "\n",
        "    client = BetaAnalyticsDataClient()\n",
        "\n",
        "    # Replace Property with the ID of your property.\n",
        "    # To find your Property ID, navigate to the Google Analytics Admin setting and go Property Settings.\n",
        "    request = RunReportRequest(\n",
        "        property=f\"properties/{property_id}\",\n",
        "        dimensions=[Dimension(name=\"city\")],\n",
        "        metrics=[Metric(name=\"activeUsers\")],\n",
        "        date_ranges=[DateRange(start_date=\"2022-09-01\", end_date=\"today\")],\n",
        "    )\n",
        "    response = client.run_report(request)v\n",
        "\n",
        "    output = []\n",
        "    print(\"Report result:\")\n",
        "    for row in response.rows:\n",
        "      output.append({\"City\":row.dimension_values[0].value, \"Sessions\": row.metric_values[0].value})\n",
        "    df = pd.DataFrame(output)\n",
        "    df.to_csv(export_path)\n",
        "  \n",
        "sample_run_report(PROPERTY_ID, \"export.csv\")\n",
        "gadata = pd.read_csv(\"export.csv\")\n",
        "gadata.head(5)"
      ],
      "metadata": {
        "id": "Cltd0AwqiYqs"
      },
      "execution_count": null,
      "outputs": []
    },
    {
      "cell_type": "code",
      "source": [
        "# Download the Region Lookup csv file from our GitHub account\n",
        "\n",
        "url = \"https://raw.githubusercontent.com/neilc-itv/itv-geo-r/main/Python/ITV%20Regions%20Mapping%20Tables%20-%20GA%20Lookup.csv\" # Make sure the url is the raw version of the file on GitHub\n",
        "download = requests.get(url).content\n",
        "\n",
        "region_lookup = pd.read_csv(io.StringIO(download.decode('utf-8')))\n",
        "web_traffic_regional = gadata.merge(region_lookup, how='left', left_on='City', right_on='City')\n",
        "web_traffic_regional.head(10)"
      ],
      "metadata": {
        "id": "roYQf_C5fQCi"
      },
      "execution_count": null,
      "outputs": []
    }
  ]
}